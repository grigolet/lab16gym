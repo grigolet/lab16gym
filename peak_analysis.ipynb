{
 "cells": [
  {
   "cell_type": "code",
   "execution_count": 1,
   "metadata": {
    "collapsed": false
   },
   "outputs": [
    {
     "name": "stdout",
     "output_type": "stream",
     "text": [
      "Using matplotlib backend: Qt5Agg\n"
     ]
    }
   ],
   "source": [
    "import numpy as np\n",
    "import matplotlib.pyplot as plt\n",
    "import functions\n",
    "from pprint import pprint\n",
    "import json\n",
    "from scipy import interpolate\n",
    "import langmuir.gymness.aggregate as agg\n",
    "%matplotlib"
   ]
  },
  {
   "cell_type": "code",
   "execution_count": null,
   "metadata": {
    "collapsed": false
   },
   "outputs": [],
   "source": [
    "# definisco i file\n",
    "lamp_file = 'OES_Studenti_2017/Ilamp_acquisitiontime_3s.txt'\n",
    "rho_file = 'OES_Studenti_2017/riflettivitadiffusore.txt' \n",
    "argon_750_file = 'OES_Studenti_2017/Ar15022017_a8_acq_time_0.01s.txt' \n",
    "argon_480_file = 'OES_Studenti_2017/Ar15022017_a1_acq_time_0.5s.txt' \n",
    "\n",
    "acquisition_time = 0.01\n",
    "\n",
    "peak_ratio = functions.get_peak_ratio(argon_480_file)\n",
    "[I_abs_spectrum, n_0, I_abs_750, X_750] = functions.get_absolute_intensity(lamp_file, rho_file, argon_750_file, acquisition_time)"
   ]
  },
  {
   "cell_type": "code",
   "execution_count": null,
   "metadata": {
    "collapsed": false
   },
   "outputs": [],
   "source": [
    "print(\"\"\"\n",
    "Peak ratio I480/I488 = {}\n",
    "n0 = {} cm-3\n",
    "I absolute 750 = {} \n",
    "X 750 = {}\n",
    "\"\"\". format(peak_ratio, n_0, I_abs_750, X_750))"
   ]
  },
  {
   "cell_type": "code",
   "execution_count": null,
   "metadata": {
    "collapsed": false,
    "scrolled": true
   },
   "outputs": [],
   "source": [
    "# first pression spectra analysys\n",
    "#                                                    name of config file    folder with data\n",
    "ratios, w_em, results = functions.get_profile_ratio('config_p1_2302.json', '2302/2302spectr/')\n",
    "n_avg, n_min, n_max   = functions.get_density(ratios)\n",
    "# plotting data\n",
    "fig_spectr, ax_spectr = plt.subplots(1,1)\n",
    "ax_spectr.errorbar(w_em, n_avg, yerr=n_max-n_min, fmt='o')\n",
    "ax_spectr.grid()"
   ]
  },
  {
   "cell_type": "code",
   "execution_count": 270,
   "metadata": {
    "collapsed": false
   },
   "outputs": [
    {
     "name": "stdout",
     "output_type": "stream",
     "text": [
      "Reading dataset:['2302lang10', '2302lang09', '2302lang03', '2302lang11', '2302lang04', '2302lang06', '2302lang05', '2302lang08', '2302lang02', '2302lang07', '2302lang12', '2302lang01']\n"
     ]
    },
    {
     "data": {
      "text/plain": [
       "<matplotlib.legend.Legend at 0x7f48963b01d0>"
      ]
     },
     "execution_count": 270,
     "metadata": {},
     "output_type": "execute_result"
    }
   ],
   "source": [
    "# langmuir density and profile temperature\n",
    "#                        path to results data\n",
    "df = agg.aggregate_data('langmuir/data/data-2302')\n",
    "# the grouped by columns will become indexes\n",
    "a = df.groupby(['P_off', 'W_em'])['n_e', 'err_n_e', 'T_e', 'err_T_e'].mean()\n",
    "# set plot stles, titles and figures. Need to add the labels though\n",
    "fig = plt.figure()\n",
    "ax_ne = fig.add_subplot(211)\n",
    "ax_ne.set_title('$n_e$ $cm^{-3}$')\n",
    "ax_ne.grid()\n",
    "ax_te = fig.add_subplot(212)\n",
    "ax_te.set_title('$T_e$ (eV)')\n",
    "ax_te.grid()\n",
    "plt.tight_layout()  # this is useful for overlapping figures\n",
    "\n",
    "# difficult code: iterate over the values of the pressure\n",
    "# indexes (there are just two values in this case) and\n",
    "# take the values of the w, n, and T for each p.\n",
    "# Then plot all the data with their labels\n",
    "for p in a.index.get_level_values(0).unique():\n",
    "    w = a.index.get_level_values(1).unique()\n",
    "    n_e = a.loc[p,:]['n_e']\n",
    "    err_n_e = a.loc[p,:]['err_n_e']\n",
    "    T_e = a.loc[p,:]['T_e']\n",
    "    err_T_e = a.loc[p,:]['err_T_e']\n",
    "    ax_ne.errorbar(w, n_e, yerr=err_n_e, fmt='o', label=\"p: {} mbar\".format(p))\n",
    "    ax_te.errorbar(w, T_e, yerr=err_T_e, fmt='o', label=\"p: {} mbar\".format(p))\n",
    "    \n",
    "# set legend for the plots\n",
    "ax_ne.legend()\n",
    "ax_te.legend()"
   ]
  },
  {
   "cell_type": "code",
   "execution_count": null,
   "metadata": {
    "collapsed": true
   },
   "outputs": [],
   "source": []
  }
 ],
 "metadata": {
  "kernelspec": {
   "display_name": "Python 3",
   "language": "python",
   "name": "python3"
  },
  "language_info": {
   "codemirror_mode": {
    "name": "ipython",
    "version": 3
   },
   "file_extension": ".py",
   "mimetype": "text/x-python",
   "name": "python",
   "nbconvert_exporter": "python",
   "pygments_lexer": "ipython3",
   "version": "3.6.0"
  }
 },
 "nbformat": 4,
 "nbformat_minor": 2
}
