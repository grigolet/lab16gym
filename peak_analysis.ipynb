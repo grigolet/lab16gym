{
 "cells": [
  {
   "cell_type": "code",
   "execution_count": 1,
   "metadata": {
    "collapsed": false
   },
   "outputs": [
    {
     "name": "stdout",
     "output_type": "stream",
     "text": [
      "Using matplotlib backend: Qt5Agg\n"
     ]
    }
   ],
   "source": [
    "import numpy as np\n",
    "import matplotlib.pyplot as plt\n",
    "import functions\n",
    "from pprint import pprint\n",
    "import json\n",
    "from scipy import interpolate\n",
    "%matplotlib"
   ]
  },
  {
   "cell_type": "code",
   "execution_count": 2,
   "metadata": {
    "collapsed": false
   },
   "outputs": [],
   "source": [
    "# definisco i file\n",
    "lamp_file = 'OES_Studenti_2017/Ilamp_acquisitiontime_3s.txt'\n",
    "rho_file = 'OES_Studenti_2017/riflettivitadiffusore.txt' \n",
    "argon_750_file = 'OES_Studenti_2017/Ar15022017_a8_acq_time_0.01s.txt' \n",
    "argon_480_file = 'OES_Studenti_2017/Ar15022017_a1_acq_time_0.5s.txt' \n",
    "\n",
    "acquisition_time = 0.01\n",
    "\n",
    "peak_ratio = functions.get_peak_ratio(argon_480_file)\n",
    "[I_abs_spectrum, n_0, I_abs_750, X_750] = functions.get_absolute_intensity(lamp_file, rho_file, argon_750_file, acquisition_time)"
   ]
  },
  {
   "cell_type": "code",
   "execution_count": 3,
   "metadata": {
    "collapsed": false
   },
   "outputs": [
    {
     "name": "stdout",
     "output_type": "stream",
     "text": [
      "\n",
      "Peak ratio I480/I488 = 0.5108261159227182\n",
      "n0 = 1.2037937743190664e+18 cm-3\n",
      "I absolute 750 = 1.986311774510172e-13 \n",
      "X 750 = 4.782219496024004e+16\n",
      "\n"
     ]
    }
   ],
   "source": [
    "print(\"\"\"\n",
    "Peak ratio I480/I488 = {}\n",
    "n0 = {} cm-3\n",
    "I absolute 750 = {} \n",
    "X 750 = {}\n",
    "\"\"\". format(peak_ratio, n_0, I_abs_750, X_750))"
   ]
  },
  {
   "cell_type": "code",
   "execution_count": 4,
   "metadata": {
    "collapsed": false,
    "scrolled": true
   },
   "outputs": [],
   "source": [
    "# first pression spectra analysys\n",
    "ratios, w_em, results = functions.get_profile_ratio('config_p1_2302.json', '2302/2302spectr/')\n",
    "n_avg, n_min, n_max   = functions.get_density(ratios)"
   ]
  },
  {
   "cell_type": "code",
   "execution_count": null,
   "metadata": {
    "collapsed": true
   },
   "outputs": [],
   "source": []
  }
 ],
 "metadata": {
  "kernelspec": {
   "display_name": "Python 3",
   "language": "python",
   "name": "python3"
  },
  "language_info": {
   "codemirror_mode": {
    "name": "ipython",
    "version": 3
   },
   "file_extension": ".py",
   "mimetype": "text/x-python",
   "name": "python",
   "nbconvert_exporter": "python",
   "pygments_lexer": "ipython3",
   "version": "3.6.0"
  }
 },
 "nbformat": 4,
 "nbformat_minor": 2
}
