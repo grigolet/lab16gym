{
 "cells": [
  {
   "cell_type": "code",
   "execution_count": 120,
   "metadata": {
    "collapsed": false
   },
   "outputs": [
    {
     "name": "stdout",
     "output_type": "stream",
     "text": [
      "Using matplotlib backend: Qt5Agg\n"
     ]
    }
   ],
   "source": [
    "import numpy as np\n",
    "import pandas as pd\n",
    "import matplotlib.pyplot as plt\n",
    "from scipy import interpolate\n",
    "from mpl_toolkits.mplot3d import Axes3D\n",
    "import matplotlib\n",
    "matplotlib.style.use('ggplot')\n",
    "%matplotlib"
   ]
  },
  {
   "cell_type": "code",
   "execution_count": 114,
   "metadata": {
    "collapsed": false
   },
   "outputs": [],
   "source": [
    "# let's define the different wavelengths for the different files.\n",
    "# I use this in order to open the right files\n",
    "folder_path = '../data/adas/'\n",
    "wavelengths = ['4101.2', '4339.9', '4860.6', '6561.9']\n",
    "\n",
    "# try to read density and temperature from different files\n",
    "n_e = pd.read_csv(folder_path + 'density_de.txt', delim_whitespace=True,\n",
    "                 squeeze=True, header=None)\n",
    "T_e = pd.read_csv(folder_path + 'temperature_de.txt', delim_whitespace=True,\n",
    "                 squeeze=True, header=None)\n",
    "n_e = n_e.T\n",
    "T_e = T_e.T\n",
    "n_e.columns = ['n_e']\n",
    "T_e.columns = ['T_e']"
   ]
  },
  {
   "cell_type": "code",
   "execution_count": 143,
   "metadata": {
    "collapsed": false
   },
   "outputs": [],
   "source": [
    "# we should read the number of lines for every file, but I hope\n",
    "# every file has the same lines number. In case this won't be true,\n",
    "# this function has to be changed with range(0, 96) to range(0, num_lines)\n",
    "df = pd.DataFrame()\n",
    "for wavelength in wavelengths:\n",
    "    \n",
    "    file_path = folder_path + wavelength + '.txt'\n",
    "    # read four dataframes because the files is splitted across 4 lines\n",
    "    df0 = pd.read_csv(file_path, delim_whitespace=True,\n",
    "                     skiprows=[x for x in range(0, 96) if (x+4)%4 != 0],\n",
    "                     header=None)\n",
    "    df1 = pd.read_csv(file_path, delim_whitespace=True,\n",
    "                     skiprows=[x for x in range(0, 96) if (x+3)%4 != 0],\n",
    "                     header=None)\n",
    "    df2 = pd.read_csv(file_path, delim_whitespace=True,\n",
    "                     skiprows=[x for x in range(0, 96) if (x+2)%4 != 0],\n",
    "                     header=None)\n",
    "    df3 = pd.read_csv(file_path, delim_whitespace=True,\n",
    "                     skiprows=[x for x in range(0, 96) if (x+1)%4 != 0],\n",
    "                     header=None)\n",
    "    df_wavelength = pd.concat([df0, df1, df2, df3], axis=1, ignore_index=True)\n",
    "    df_wavelength = df_wavelength.set_index(n_e['n_e'])\n",
    "    df_wavelength.columns = T_e['T_e']\n",
    "    df_wavelength['wavelength'] = wavelength\n",
    "    df_wavelength['n_e'] = df_wavelength.index.values\n",
    "    df_melt = pd.melt(df_wavelength, id_vars=['n_e', 'wavelength'], var_name='T_e',\n",
    "                     value_name='X_e')\n",
    "    df = df.append(df_melt)"
   ]
  },
  {
   "cell_type": "code",
   "execution_count": 183,
   "metadata": {
    "collapsed": false
   },
   "outputs": [],
   "source": [
    "a = df.groupby('wavelength', as_index=False)\n",
    "# afaik h-alpha = 6561.9\n",
    "# h-beta 4860.6\n",
    "# h-gamma 4339.9\n",
    "# h-delta 4101.2\n",
    "# let's create a dataframe with the following columns:\n",
    "# | wl1 | wl2 | X1 | X2 | Te | ne | ratio |\n",
    "# the ration will be the respect to the following:\n",
    "# ha/hb ---- ha/hg ----- ha/hd\n",
    "ha = wavelengths[3]\n",
    "hb = wavelengths[2]\n",
    "hg = wavelengths[1]\n",
    "hd = wavelengths[0]\n",
    "\n",
    "df_ha = a.get_group(wavelengths[3])\n",
    "df_hb = a.get_group(wavelengths[2])\n",
    "df_hg = a.get_group(wavelengths[1])\n",
    "df_hd = a.get_group(wavelengths[0])\n",
    "# create a new dataframe for ratios\n",
    "# merge df_ha with df_hb, df_ha with df_hg and so on\n",
    "df_ratio = pd.DataFrame()\n",
    "df_ratio = df_ratio.append(pd.merge(df_ha, df_hb, on=['n_e', 'T_e'], \n",
    "                                    suffixes=('_1', '_2')))\n",
    "df_ratio = df_ratio.append(pd.merge(df_ha, df_hg, on=['n_e', 'T_e'], \n",
    "                                    suffixes=('_1', '_2')))\n",
    "df_ratio = df_ratio.append(pd.merge(df_ha, df_hd, on=['n_e', 'T_e'], \n",
    "                                    suffixes=('_1', '_2')))\n",
    "# calculate the ratio between pecs\n",
    "df_ratio['ratio'] = df_ratio.X_e_1 / df_ratio.X_e_2\n",
    "# group by wavelength ratio\n",
    "group_ratio = df_ratio.groupby(['wavelength_1', 'wavelength_2'])"
   ]
  },
  {
   "cell_type": "code",
   "execution_count": 232,
   "metadata": {
    "collapsed": false
   },
   "outputs": [
    {
     "data": {
      "text/plain": [
       "<matplotlib.legend.Legend at 0x7fde713ac898>"
      ]
     },
     "execution_count": 232,
     "metadata": {},
     "output_type": "execute_result"
    }
   ],
   "source": [
    "group_b = group_ratio.get_group((ha, hb))\n",
    "group_g = group_ratio.get_group((ha, hg))\n",
    "group_d = group_ratio.get_group((ha, hd))\n",
    "\n",
    "# let's try to plot group d\n",
    "#fig = plt.figure()\n",
    "#ax = fig.add_subplot()\n",
    "group_d_T = group_d[group_d.T_e < 20].groupby('n_e')\n",
    "for name, group in group_d_T:\n",
    "    if 1e10 <= float(name) < 1e12:\n",
    "        plt.plot(group.T_e, group.ratio, \n",
    "            label='n = {:.3e}'.format(float(name)))\n",
    "plt.xlabel('T (eV)')\n",
    "plt.ylabel('ratio')\n",
    "plt.legend()"
   ]
  },
  {
   "cell_type": "code",
   "execution_count": 226,
   "metadata": {
    "collapsed": false
   },
   "outputs": [
    {
     "data": {
      "text/plain": [
       "<matplotlib.legend.Legend at 0x7fde7119fda0>"
      ]
     },
     "execution_count": 226,
     "metadata": {},
     "output_type": "execute_result"
    }
   ],
   "source": [
    "# let's try to plot group d but with respect to densities\n",
    "#fig = plt.figure()\n",
    "#ax = fig.add_subplot()\n",
    "group_d_n = group_d[group_d.n_e < 1e13].groupby('T_e')\n",
    "for name, group in group_d_n:\n",
    "    if float(name) < 20:\n",
    "        plt.plot(group.n_e, group.ratio, \n",
    "            label='T = {:.3e}'.format(float(name)))\n",
    "plt.xlabel('n ($cm^{3}$)')\n",
    "plt.ylabel('ratio')\n",
    "plt.legend()"
   ]
  },
  {
   "cell_type": "code",
   "execution_count": 230,
   "metadata": {
    "collapsed": true
   },
   "outputs": [],
   "source": [
    "plt.clf()"
   ]
  },
  {
   "cell_type": "code",
   "execution_count": null,
   "metadata": {
    "collapsed": true
   },
   "outputs": [],
   "source": []
  }
 ],
 "metadata": {
  "kernelspec": {
   "display_name": "Python 3",
   "language": "python",
   "name": "python3"
  },
  "language_info": {
   "codemirror_mode": {
    "name": "ipython",
    "version": 3
   },
   "file_extension": ".py",
   "mimetype": "text/x-python",
   "name": "python",
   "nbconvert_exporter": "python",
   "pygments_lexer": "ipython3",
   "version": "3.6.0"
  }
 },
 "nbformat": 4,
 "nbformat_minor": 2
}
