{
 "cells": [
  {
   "cell_type": "code",
   "execution_count": 1,
   "metadata": {
    "collapsed": false
   },
   "outputs": [
    {
     "name": "stdout",
     "output_type": "stream",
     "text": [
      "Using matplotlib backend: Qt5Agg\n"
     ]
    }
   ],
   "source": [
    "import sys\n",
    "sys.path.append('../')\n",
    "import numpy as np\n",
    "import matplotlib.pyplot as plt\n",
    "import functions\n",
    "from pprint import pprint\n",
    "import json\n",
    "from scipy import interpolate\n",
    "import langmuir.gymness.aggregate as agg\n",
    "from decimal import Decimal\n",
    "%matplotlib"
   ]
  },
  {
   "cell_type": "code",
   "execution_count": 2,
   "metadata": {
    "collapsed": false
   },
   "outputs": [],
   "source": [
    "# definisco i file\n",
    "lamp_file = '../OES_Studenti_2017/Ilamp_acquisitiontime_3s.txt'\n",
    "rho_file = '../OES_Studenti_2017/riflettivitadiffusore.txt' \n",
    "argon_750_file = '../OES_Studenti_2017/Ar15022017_a8_acq_time_0.01s.txt' \n",
    "argon_480_file = '../OES_Studenti_2017/Ar15022017_a1_acq_time_0.5s.txt' \n",
    "\n",
    "acquisition_time = 0.01\n",
    "\n",
    "peak_ratio = functions.get_peak_ratio(argon_480_file)\n",
    "[I_abs_spectrum, n_0, I_abs_750, X_750] = functions.get_absolute_intensity(lamp_file, rho_file, argon_750_file, acquisition_time)\n",
    "n_e_mean, n_e_min, n_e_max = functions.get_density(peak_ratio, '../fantz-data/fants.txt')"
   ]
  },
  {
   "cell_type": "code",
   "execution_count": 6,
   "metadata": {
    "collapsed": false
   },
   "outputs": [
    {
     "name": "stdout",
     "output_type": "stream",
     "text": [
      "\n",
      "Peak ratio I480/I488 = 5.252E-01\n",
      "n0 = 1.204E+18 cm-3\n",
      "I absolute 750 = 1.986E-13 \n",
      "X 750 = 4.782E+16\n",
      "n_e_mean = 1.200E+11 cm-3\n",
      "( 1.072E+11 < n_e < 1.338E+11 ) cm-3\n"
     ]
    }
   ],
   "source": [
    "# peak_ratio_approx = '%.3E' % peak_ratio\n",
    "# n_0_approx = '%.3E' % n_0\n",
    "# I_abs_750_approx = '%.3E' % I_abs_750\n",
    "# X_750_approx = '%.3E' % X_750\n",
    "# n_e_mean_approx = '%.3E' % n_e_mean\n",
    "# n_e_min_approx = '%.3E' % n_e_min\n",
    "# n_e_max_approx = '%.3E' % n_e_max\n",
    "print(\"\"\"\n",
    "Peak ratio I480/I488 = {:.3E}\n",
    "n0 = {:.3E} cm-3\n",
    "I absolute 750 = {:.3E} \n",
    "X 750 = {:.3E}\n",
    "n_e_mean = {:.3E} cm-3\n",
    "( {:.3E} < n_e < {:.3E} ) cm-3\"\"\". format(peak_ratio, n_0, I_abs_750, X_750, n_e_mean, n_e_min, n_e_max))"
   ]
  },
  {
   "cell_type": "code",
   "execution_count": 5,
   "metadata": {
    "collapsed": false
   },
   "outputs": [
    {
     "data": {
      "text/plain": [
       "2.2644074540934096e+20"
      ]
     },
     "execution_count": 5,
     "metadata": {},
     "output_type": "execute_result"
    }
   ],
   "source": [
    "# test for new functions\n",
    "intensity = functions.get_absolute_intensity_2(argon_750_file,\n",
    "                                              acquisition_time,\n",
    "                                              750.4)\n",
    "p_correction = 1/1.29\n",
    "pec = functions.get_pec(intensity, 6.38e-5, p_correction, 2e11)\n",
    "intensity"
   ]
  },
  {
   "cell_type": "code",
   "execution_count": null,
   "metadata": {
    "collapsed": false,
    "scrolled": true
   },
   "outputs": [],
   "source": [
    "# density ratio pression spectra analysis\n",
    "#                                                    name of config file    folder with data\n",
    "ratios_p1, w_em_p1, results_p1 = functions.get_profile_ratio('../config_p1_2302.json', '../data/2302/2302spectr/')\n",
    "ratios_p2, w_em_p2, results_p2 = functions.get_profile_ratio('../config_p2_2302.json', '../data/2302/2302spectr/')\n",
    "n_avg_p1, n_min_p1, n_max_p1  = functions.get_density(ratios_p1, '../fantz-data/fants.txt')\n",
    "n_avg_p2, n_min_p2, n_max_p2  = functions.get_density(ratios_p2, '../fantz-data/fants.txt')\n",
    "p1_off = 3.1e-5\n",
    "p2_off = 1.74e-4\n",
    "\n",
    "# plotting data\n",
    "fig_spectr, ax_spectr = plt.subplots(1,1)\n",
    "ax_spectr.errorbar(w_em_p1, n_avg_p1, yerr=n_max_p1-n_min_p1, fmt='o', label='p = {} mbar'.format(p1_off))\n",
    "ax_spectr.errorbar(w_em_p2, n_avg_p2, yerr=n_max_p2-n_min_p2, fmt='o', label='p = {} mbar'.format(p2_off))\n",
    "ax_spectr.legend()\n",
    "ax_spectr.grid()\n",
    "# second pression spectra analysis"
   ]
  },
  {
   "cell_type": "code",
   "execution_count": null,
   "metadata": {
    "collapsed": false
   },
   "outputs": [],
   "source": [
    "# langmuir density and profile temperature\n",
    "#                        path to results data\n",
    "df = agg.aggregate_data('../langmuir/data/data-2302')\n",
    "# the grouped by columns will become indexes\n",
    "a = df.groupby(['P_off', 'W_em'])['n_e', 'err_n_e', 'T_e', 'err_T_e'].mean()\n",
    "# set plot stles, titles and figures. Need to add the labels though\n",
    "fig = plt.figure()\n",
    "ax_ne = fig.add_subplot(211)\n",
    "ax_ne.set_title('$n_e$ $cm^{-3}$')\n",
    "ax_ne.grid()\n",
    "ax_te = fig.add_subplot(212)\n",
    "ax_te.set_title('$T_e$ (eV)')\n",
    "ax_te.grid()\n",
    "plt.tight_layout()  # this is useful for overlapping figures\n",
    "\n",
    "# difficult code: iterate over the values of the pressure\n",
    "# indexes (there are just two values in this case) and\n",
    "# take the values of the w, n, and T for each p.\n",
    "# Then plot all the data with their labels\n",
    "for p in a.index.get_level_values(0).unique():\n",
    "    w = a.index.get_level_values(1).unique()\n",
    "    n_e = a.loc[p,:]['n_e']\n",
    "    err_n_e = a.loc[p,:]['err_n_e']\n",
    "    T_e = a.loc[p,:]['T_e']\n",
    "    err_T_e = a.loc[p,:]['err_T_e']\n",
    "    ax_ne.errorbar(w, n_e, yerr=err_n_e, fmt='o', label=\"p: {} mbar\".format(p))\n",
    "    ax_te.errorbar(w, T_e, yerr=err_T_e, fmt='o', label=\"p: {} mbar\".format(p))\n",
    "    \n",
    "# set legend for the plots\n",
    "ax_ne.legend()\n",
    "ax_te.legend()"
   ]
  },
  {
   "cell_type": "code",
   "execution_count": null,
   "metadata": {
    "collapsed": false
   },
   "outputs": [],
   "source": []
  },
  {
   "cell_type": "code",
   "execution_count": null,
   "metadata": {
    "collapsed": true
   },
   "outputs": [],
   "source": []
  }
 ],
 "metadata": {
  "kernelspec": {
   "display_name": "Python 3",
   "language": "python",
   "name": "python3"
  },
  "language_info": {
   "codemirror_mode": {
    "name": "ipython",
    "version": 3
   },
   "file_extension": ".py",
   "mimetype": "text/x-python",
   "name": "python",
   "nbconvert_exporter": "python",
   "pygments_lexer": "ipython3",
   "version": "3.6.0"
  }
 },
 "nbformat": 4,
 "nbformat_minor": 2
}
