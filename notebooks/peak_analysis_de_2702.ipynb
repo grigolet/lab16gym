{
 "cells": [
  {
   "cell_type": "code",
   "execution_count": 2,
   "metadata": {
    "collapsed": false
   },
   "outputs": [
    {
     "name": "stdout",
     "output_type": "stream",
     "text": [
      "Using matplotlib backend: GTK3Agg\n"
     ]
    }
   ],
   "source": [
    "import sys\n",
    "sys.path.append('../')\n",
    "import numpy as np\n",
    "import matplotlib.pyplot as plt\n",
    "import functions\n",
    "import functions2\n",
    "from pprint import pprint\n",
    "import json\n",
    "from scipy import interpolate\n",
    "import langmuir.gymness.aggregate as agg\n",
    "import pandas as pd\n",
    "from pandas.io.json import json_normalize\n",
    "%matplotlib"
   ]
  },
  {
   "cell_type": "code",
   "execution_count": 3,
   "metadata": {
    "collapsed": false
   },
   "outputs": [],
   "source": [
    "with open('../config_2702.json') as file:\n",
    "    data = json.load(file)\n",
    "    \n",
    "df = pd.DataFrame()\n",
    "for item, content in data['T'].items():\n",
    "    df_item = pd.read_json(json.dumps(content))\n",
    "    df_item['file_name'] = '../data/2702/2702spectr/{}.dat'.format(item)\n",
    "    df=df.append(df_item)"
   ]
  },
  {
   "cell_type": "code",
   "execution_count": 4,
   "metadata": {
    "collapsed": false
   },
   "outputs": [],
   "source": [
    "def get_i_abs(x):\n",
    "    [i, l] = functions2.get_intensity(x['file_name'], x['l'], x['t'])              \n",
    "    tau = functions2.get_calibration_coefficient(l)\n",
    "    return functions2.get_absolute_intensity(i, l, tau, x['l'], )\n",
    "\n",
    "def get_tau(x):\n",
    "    i, l = np.genfromtxt(x['file_name'], unpack=True)\n",
    "    return functions2.get_calibration_coefficient(l)\n",
    "\n",
    "a = df.apply(get_i_abs, axis=1)\n",
    "df['i_abs'] = a[0]\n",
    "df['correct_l'] = a[1]\n",
    "# df['tau'] = df.apply(get_tau, axis=1)"
   ]
  },
  {
   "cell_type": "code",
   "execution_count": 5,
   "metadata": {
    "collapsed": false,
    "scrolled": false
   },
   "outputs": [],
   "source": [
    "df_merged = pd.merge(df, df, on=['w', 'p_off'])\n",
    "df_merged_hahb = df_merged[(df_merged.l_x == 656.148) & (df_merged.l_y == 486)].reset_index()\n",
    "df_merged_hahb['ratio'] = df_merged_hahb['i_abs_x'] / df_merged_hahb['i_abs_y']\n",
    "# df_merged_hahb = df_merged_hahb.groupby(['p_off', 'w']).mean()\n",
    "df_merged_hahb['T_lavrov'] = functions2.get_temperature(df_merged_hahb['ratio'], '../data/2702/ratio_de(Lavrov).csv')\n",
    "df_merged_hahb['T'] = functions2.get_temperature(df_merged_hahb['ratio'], '../data/2702/ratio_de_hahb.csv')\n",
    "# df_merged_hahb"
   ]
  },
  {
   "cell_type": "code",
   "execution_count": 6,
   "metadata": {
    "collapsed": false
   },
   "outputs": [
    {
     "data": {
      "text/html": [
       "<div>\n",
       "<table border=\"1\" class=\"dataframe\">\n",
       "  <thead>\n",
       "    <tr style=\"text-align: right;\">\n",
       "      <th></th>\n",
       "      <th></th>\n",
       "      <th>index</th>\n",
       "      <th>l_x</th>\n",
       "      <th>p_x</th>\n",
       "      <th>t_x</th>\n",
       "      <th>i_abs_x</th>\n",
       "      <th>correct_l_x</th>\n",
       "      <th>l_y</th>\n",
       "      <th>p_y</th>\n",
       "      <th>t_y</th>\n",
       "      <th>i_abs_y</th>\n",
       "      <th>correct_l_y</th>\n",
       "      <th>ratio</th>\n",
       "      <th>T</th>\n",
       "    </tr>\n",
       "    <tr>\n",
       "      <th>p_off</th>\n",
       "      <th>w</th>\n",
       "      <th></th>\n",
       "      <th></th>\n",
       "      <th></th>\n",
       "      <th></th>\n",
       "      <th></th>\n",
       "      <th></th>\n",
       "      <th></th>\n",
       "      <th></th>\n",
       "      <th></th>\n",
       "      <th></th>\n",
       "      <th></th>\n",
       "      <th></th>\n",
       "      <th></th>\n",
       "    </tr>\n",
       "  </thead>\n",
       "  <tbody>\n",
       "    <tr>\n",
       "      <th rowspan=\"5\" valign=\"top\">0.000493</th>\n",
       "      <th>20</th>\n",
       "      <td>529.166667</td>\n",
       "      <td>656.148</td>\n",
       "      <td>0.000498</td>\n",
       "      <td>0.05</td>\n",
       "      <td>279540.000000</td>\n",
       "      <td>656.148</td>\n",
       "      <td>410.082</td>\n",
       "      <td>0.000498</td>\n",
       "      <td>0.2</td>\n",
       "      <td>11751.666667</td>\n",
       "      <td>410.090000</td>\n",
       "      <td>23.793721</td>\n",
       "      <td>8.345771</td>\n",
       "    </tr>\n",
       "    <tr>\n",
       "      <th>30</th>\n",
       "      <td>738.000000</td>\n",
       "      <td>656.148</td>\n",
       "      <td>0.000532</td>\n",
       "      <td>0.05</td>\n",
       "      <td>705873.333333</td>\n",
       "      <td>656.148</td>\n",
       "      <td>410.082</td>\n",
       "      <td>0.000532</td>\n",
       "      <td>0.2</td>\n",
       "      <td>27380.000000</td>\n",
       "      <td>410.090000</td>\n",
       "      <td>25.782241</td>\n",
       "      <td>4.171503</td>\n",
       "    </tr>\n",
       "    <tr>\n",
       "      <th>40</th>\n",
       "      <td>652.333333</td>\n",
       "      <td>656.148</td>\n",
       "      <td>0.000513</td>\n",
       "      <td>0.05</td>\n",
       "      <td>625240.000000</td>\n",
       "      <td>656.148</td>\n",
       "      <td>410.082</td>\n",
       "      <td>0.000513</td>\n",
       "      <td>0.2</td>\n",
       "      <td>23780.000000</td>\n",
       "      <td>410.082000</td>\n",
       "      <td>26.294015</td>\n",
       "      <td>3.221569</td>\n",
       "    </tr>\n",
       "    <tr>\n",
       "      <th>50</th>\n",
       "      <td>952.000000</td>\n",
       "      <td>656.148</td>\n",
       "      <td>0.000530</td>\n",
       "      <td>0.05</td>\n",
       "      <td>743046.666667</td>\n",
       "      <td>656.148</td>\n",
       "      <td>410.082</td>\n",
       "      <td>0.000530</td>\n",
       "      <td>0.2</td>\n",
       "      <td>29291.666667</td>\n",
       "      <td>410.090000</td>\n",
       "      <td>25.367322</td>\n",
       "      <td>5.000909</td>\n",
       "    </tr>\n",
       "    <tr>\n",
       "      <th>60</th>\n",
       "      <td>99.666667</td>\n",
       "      <td>656.148</td>\n",
       "      <td>0.000513</td>\n",
       "      <td>0.05</td>\n",
       "      <td>579726.666667</td>\n",
       "      <td>656.148</td>\n",
       "      <td>410.082</td>\n",
       "      <td>0.000513</td>\n",
       "      <td>0.2</td>\n",
       "      <td>23293.333333</td>\n",
       "      <td>410.089333</td>\n",
       "      <td>24.889893</td>\n",
       "      <td>5.865339</td>\n",
       "    </tr>\n",
       "  </tbody>\n",
       "</table>\n",
       "</div>"
      ],
      "text/plain": [
       "                  index      l_x       p_x   t_x        i_abs_x  correct_l_x  \\\n",
       "p_off    w                                                                     \n",
       "0.000493 20  529.166667  656.148  0.000498  0.05  279540.000000      656.148   \n",
       "         30  738.000000  656.148  0.000532  0.05  705873.333333      656.148   \n",
       "         40  652.333333  656.148  0.000513  0.05  625240.000000      656.148   \n",
       "         50  952.000000  656.148  0.000530  0.05  743046.666667      656.148   \n",
       "         60   99.666667  656.148  0.000513  0.05  579726.666667      656.148   \n",
       "\n",
       "                 l_y       p_y  t_y       i_abs_y  correct_l_y      ratio  \\\n",
       "p_off    w                                                                  \n",
       "0.000493 20  410.082  0.000498  0.2  11751.666667   410.090000  23.793721   \n",
       "         30  410.082  0.000532  0.2  27380.000000   410.090000  25.782241   \n",
       "         40  410.082  0.000513  0.2  23780.000000   410.082000  26.294015   \n",
       "         50  410.082  0.000530  0.2  29291.666667   410.090000  25.367322   \n",
       "         60  410.082  0.000513  0.2  23293.333333   410.089333  24.889893   \n",
       "\n",
       "                    T  \n",
       "p_off    w             \n",
       "0.000493 20  8.345771  \n",
       "         30  4.171503  \n",
       "         40  3.221569  \n",
       "         50  5.000909  \n",
       "         60  5.865339  "
      ]
     },
     "execution_count": 6,
     "metadata": {},
     "output_type": "execute_result"
    }
   ],
   "source": [
    "df_merged_hahd = df_merged[(df_merged.l_x == 656.148) & (df_merged.l_y == 410.082)].reset_index()\n",
    "df_merged_hahd['ratio'] = df_merged_hahd['i_abs_x'] / df_merged_hahd['i_abs_y']\n",
    "# df_merged_hahd = df_merged_hahd.groupby(['p_off', 'w']).mean()\n",
    "df_merged_hahd['T'] = functions2.get_temperature(df_merged_hahd['ratio'], '../data/2702/ratio_de_hahd.csv')\n",
    "df_merged_hahd = df_merged_hahd.dropna().groupby(['p_off', 'w']).mean()\n",
    "df_merged_hahd"
   ]
  },
  {
   "cell_type": "code",
   "execution_count": 10,
   "metadata": {
    "collapsed": false
   },
   "outputs": [],
   "source": [
    "# t1, r1 = np.genfromtxt('../data/2702/ratio_de_hahd.csv', unpack=True)\n",
    "t2, r2 = np.genfromtxt('../data/2702/ratio_de_hahb.csv', unpack=True)\n",
    "tl, rl = np.genfromtxt('../data/2702/ratio_de(Lavrov).csv', unpack=True)\n",
    "plt.subplot(211)\n",
    "plt.title('$H_{\\\\alpha} / H_{\\\\delta}$')\n",
    "plt.plot(tl, rl, label='Adas database')\n",
    "plt.xlabel('$T_e$', fontsize=14)\n",
    "plt.ylabel('ratio', fontsize=14)\n",
    "plt.legend()\n",
    "plt.grid()\n",
    "\n",
    "plt.subplot(212)\n",
    "plt.title('$H_{\\\\alpha}/H_{\\\\beta}$')\n",
    "plt.plot(tl, rl, label='Lavrov database')\n",
    "plt.plot(t2, r2, label='Adas database')\n",
    "plt.xlabel('$T_e$', fontsize=14)\n",
    "plt.ylabel('ratio', fontsize=14)\n",
    "plt.legend()\n",
    "plt.grid()\n",
    "plt.tight_layout()"
   ]
  },
  {
   "cell_type": "code",
   "execution_count": 11,
   "metadata": {
    "collapsed": false
   },
   "outputs": [
    {
     "name": "stdout",
     "output_type": "stream",
     "text": [
      "Reading dataset:['2702lang10', '2702lang07', '2702lang12', '2702lang02', '2702lang03', '2702lang08', '2702lang04', '2702lang13', '2702lang09', '2702lang05', '2702lang18', '2702lang17', '2702lang19', '2702lang14', '2702lang15', '2702lang06', '2702lang11', '2702lang16', '2702lang01']\n"
     ]
    }
   ],
   "source": [
    "# langmuir density and profile temperature\n",
    "df_langmuir = agg.aggregate_data('../langmuir/data/data-2702')\n",
    "# the grouped by columns will become indexes\n",
    "p_grouped_langmuir = df_langmuir.groupby(['P_off', 'W_em'])['n_e', 'err_n_e', 'T_e', 'err_T_e'].mean()\n",
    "# set plot stles, titles and figures. Need to add the labels though"
   ]
  },
  {
   "cell_type": "code",
   "execution_count": 12,
   "metadata": {
    "collapsed": false
   },
   "outputs": [
    {
     "ename": "KeyError",
     "evalue": "'p_off (mbar)'",
     "output_type": "error",
     "traceback": [
      "\u001b[0;31m---------------------------------------------------------------------------\u001b[0m",
      "\u001b[0;31mKeyError\u001b[0m                                  Traceback (most recent call last)",
      "\u001b[0;32m/usr/local/lib/python3.4/dist-packages/pandas/indexes/base.py\u001b[0m in \u001b[0;36mget_loc\u001b[0;34m(self, key, method, tolerance)\u001b[0m\n\u001b[1;32m   2133\u001b[0m             \u001b[0;32mtry\u001b[0m\u001b[0;34m:\u001b[0m\u001b[0;34m\u001b[0m\u001b[0m\n\u001b[0;32m-> 2134\u001b[0;31m                 \u001b[0;32mreturn\u001b[0m \u001b[0mself\u001b[0m\u001b[0;34m.\u001b[0m\u001b[0m_engine\u001b[0m\u001b[0;34m.\u001b[0m\u001b[0mget_loc\u001b[0m\u001b[0;34m(\u001b[0m\u001b[0mkey\u001b[0m\u001b[0;34m)\u001b[0m\u001b[0;34m\u001b[0m\u001b[0m\n\u001b[0m\u001b[1;32m   2135\u001b[0m             \u001b[0;32mexcept\u001b[0m \u001b[0mKeyError\u001b[0m\u001b[0;34m:\u001b[0m\u001b[0;34m\u001b[0m\u001b[0m\n",
      "\u001b[0;32mpandas/index.pyx\u001b[0m in \u001b[0;36mpandas.index.IndexEngine.get_loc (pandas/index.c:4145)\u001b[0;34m()\u001b[0m\n",
      "\u001b[0;32mpandas/index.pyx\u001b[0m in \u001b[0;36mpandas.index.IndexEngine.get_loc (pandas/index.c:4009)\u001b[0;34m()\u001b[0m\n",
      "\u001b[0;32mpandas/src/hashtable_class_helper.pxi\u001b[0m in \u001b[0;36mpandas.hashtable.PyObjectHashTable.get_item (pandas/hashtable.c:13166)\u001b[0;34m()\u001b[0m\n",
      "\u001b[0;32mpandas/src/hashtable_class_helper.pxi\u001b[0m in \u001b[0;36mpandas.hashtable.PyObjectHashTable.get_item (pandas/hashtable.c:13120)\u001b[0;34m()\u001b[0m\n",
      "\u001b[0;31mKeyError\u001b[0m: 'p_off (mbar)'",
      "\nDuring handling of the above exception, another exception occurred:\n",
      "\u001b[0;31mKeyError\u001b[0m                                  Traceback (most recent call last)",
      "\u001b[0;32m<ipython-input-12-24e6d95fba58>\u001b[0m in \u001b[0;36m<module>\u001b[0;34m()\u001b[0m\n\u001b[1;32m      1\u001b[0m \u001b[0;31m# plotting data\u001b[0m\u001b[0;34m\u001b[0m\u001b[0;34m\u001b[0m\u001b[0m\n\u001b[1;32m      2\u001b[0m \u001b[0mplt\u001b[0m\u001b[0;34m.\u001b[0m\u001b[0msubplot\u001b[0m\u001b[0;34m(\u001b[0m\u001b[0;36m221\u001b[0m\u001b[0;34m)\u001b[0m\u001b[0;34m\u001b[0m\u001b[0m\n\u001b[0;32m----> 3\u001b[0;31m \u001b[0mplt\u001b[0m\u001b[0;34m.\u001b[0m\u001b[0mtitle\u001b[0m\u001b[0;34m(\u001b[0m\u001b[0;34m'p = {:.2e} mbar'\u001b[0m\u001b[0;34m.\u001b[0m\u001b[0mformat\u001b[0m\u001b[0;34m(\u001b[0m\u001b[0mdf_langmuir\u001b[0m\u001b[0;34m[\u001b[0m\u001b[0;34m'p_off (mbar)'\u001b[0m\u001b[0;34m]\u001b[0m\u001b[0;34m[\u001b[0m\u001b[0;36m0\u001b[0m\u001b[0;34m]\u001b[0m\u001b[0;34m)\u001b[0m\u001b[0;34m,\u001b[0m \u001b[0mfontsize\u001b[0m\u001b[0;34m=\u001b[0m\u001b[0;36m20\u001b[0m\u001b[0;34m)\u001b[0m\u001b[0;34m\u001b[0m\u001b[0m\n\u001b[0m\u001b[1;32m      4\u001b[0m \u001b[0mplt\u001b[0m\u001b[0;34m.\u001b[0m\u001b[0merrorbar\u001b[0m\u001b[0;34m(\u001b[0m\u001b[0mdf\u001b[0m\u001b[0;34m[\u001b[0m\u001b[0;34m'w (%)'\u001b[0m\u001b[0;34m]\u001b[0m\u001b[0;34m[\u001b[0m\u001b[0;34m:\u001b[0m\u001b[0;36m3\u001b[0m\u001b[0;34m]\u001b[0m\u001b[0;34m,\u001b[0m \u001b[0mdf\u001b[0m\u001b[0;34m[\u001b[0m\u001b[0;34m'n_e'\u001b[0m\u001b[0;34m]\u001b[0m\u001b[0;34m[\u001b[0m\u001b[0;34m:\u001b[0m\u001b[0;36m3\u001b[0m\u001b[0;34m]\u001b[0m\u001b[0;34m,\u001b[0m \u001b[0myerr\u001b[0m\u001b[0;34m=\u001b[0m\u001b[0mdf\u001b[0m\u001b[0;34m[\u001b[0m\u001b[0;34m'err_n_e'\u001b[0m\u001b[0;34m]\u001b[0m\u001b[0;34m[\u001b[0m\u001b[0;34m:\u001b[0m\u001b[0;36m3\u001b[0m\u001b[0;34m]\u001b[0m\u001b[0;34m,\u001b[0m \u001b[0mfmt\u001b[0m\u001b[0;34m=\u001b[0m\u001b[0;34m'o'\u001b[0m\u001b[0;34m,\u001b[0m \u001b[0mlabel\u001b[0m\u001b[0;34m=\u001b[0m\u001b[0;34m'Langmuir'\u001b[0m\u001b[0;34m)\u001b[0m\u001b[0;34m\u001b[0m\u001b[0m\n\u001b[1;32m      5\u001b[0m plt.errorbar(df_spectr['w (%)'][:3], df_spectr['n ($cm^{-3}$)'][:3], yerr=(df_spectr['n_max ($cm^{-3}$)'] - df_spectr['n_min ($cm^{-3}$)'])[:3], \n",
      "\u001b[0;32m/usr/local/lib/python3.4/dist-packages/pandas/core/frame.py\u001b[0m in \u001b[0;36m__getitem__\u001b[0;34m(self, key)\u001b[0m\n\u001b[1;32m   2057\u001b[0m             \u001b[0;32mreturn\u001b[0m \u001b[0mself\u001b[0m\u001b[0;34m.\u001b[0m\u001b[0m_getitem_multilevel\u001b[0m\u001b[0;34m(\u001b[0m\u001b[0mkey\u001b[0m\u001b[0;34m)\u001b[0m\u001b[0;34m\u001b[0m\u001b[0m\n\u001b[1;32m   2058\u001b[0m         \u001b[0;32melse\u001b[0m\u001b[0;34m:\u001b[0m\u001b[0;34m\u001b[0m\u001b[0m\n\u001b[0;32m-> 2059\u001b[0;31m             \u001b[0;32mreturn\u001b[0m \u001b[0mself\u001b[0m\u001b[0;34m.\u001b[0m\u001b[0m_getitem_column\u001b[0m\u001b[0;34m(\u001b[0m\u001b[0mkey\u001b[0m\u001b[0;34m)\u001b[0m\u001b[0;34m\u001b[0m\u001b[0m\n\u001b[0m\u001b[1;32m   2060\u001b[0m \u001b[0;34m\u001b[0m\u001b[0m\n\u001b[1;32m   2061\u001b[0m     \u001b[0;32mdef\u001b[0m \u001b[0m_getitem_column\u001b[0m\u001b[0;34m(\u001b[0m\u001b[0mself\u001b[0m\u001b[0;34m,\u001b[0m \u001b[0mkey\u001b[0m\u001b[0;34m)\u001b[0m\u001b[0;34m:\u001b[0m\u001b[0;34m\u001b[0m\u001b[0m\n",
      "\u001b[0;32m/usr/local/lib/python3.4/dist-packages/pandas/core/frame.py\u001b[0m in \u001b[0;36m_getitem_column\u001b[0;34m(self, key)\u001b[0m\n\u001b[1;32m   2064\u001b[0m         \u001b[0;31m# get column\u001b[0m\u001b[0;34m\u001b[0m\u001b[0;34m\u001b[0m\u001b[0m\n\u001b[1;32m   2065\u001b[0m         \u001b[0;32mif\u001b[0m \u001b[0mself\u001b[0m\u001b[0;34m.\u001b[0m\u001b[0mcolumns\u001b[0m\u001b[0;34m.\u001b[0m\u001b[0mis_unique\u001b[0m\u001b[0;34m:\u001b[0m\u001b[0;34m\u001b[0m\u001b[0m\n\u001b[0;32m-> 2066\u001b[0;31m             \u001b[0;32mreturn\u001b[0m \u001b[0mself\u001b[0m\u001b[0;34m.\u001b[0m\u001b[0m_get_item_cache\u001b[0m\u001b[0;34m(\u001b[0m\u001b[0mkey\u001b[0m\u001b[0;34m)\u001b[0m\u001b[0;34m\u001b[0m\u001b[0m\n\u001b[0m\u001b[1;32m   2067\u001b[0m \u001b[0;34m\u001b[0m\u001b[0m\n\u001b[1;32m   2068\u001b[0m         \u001b[0;31m# duplicate columns & possible reduce dimensionality\u001b[0m\u001b[0;34m\u001b[0m\u001b[0;34m\u001b[0m\u001b[0m\n",
      "\u001b[0;32m/usr/local/lib/python3.4/dist-packages/pandas/core/generic.py\u001b[0m in \u001b[0;36m_get_item_cache\u001b[0;34m(self, item)\u001b[0m\n\u001b[1;32m   1384\u001b[0m         \u001b[0mres\u001b[0m \u001b[0;34m=\u001b[0m \u001b[0mcache\u001b[0m\u001b[0;34m.\u001b[0m\u001b[0mget\u001b[0m\u001b[0;34m(\u001b[0m\u001b[0mitem\u001b[0m\u001b[0;34m)\u001b[0m\u001b[0;34m\u001b[0m\u001b[0m\n\u001b[1;32m   1385\u001b[0m         \u001b[0;32mif\u001b[0m \u001b[0mres\u001b[0m \u001b[0;32mis\u001b[0m \u001b[0;32mNone\u001b[0m\u001b[0;34m:\u001b[0m\u001b[0;34m\u001b[0m\u001b[0m\n\u001b[0;32m-> 1386\u001b[0;31m             \u001b[0mvalues\u001b[0m \u001b[0;34m=\u001b[0m \u001b[0mself\u001b[0m\u001b[0;34m.\u001b[0m\u001b[0m_data\u001b[0m\u001b[0;34m.\u001b[0m\u001b[0mget\u001b[0m\u001b[0;34m(\u001b[0m\u001b[0mitem\u001b[0m\u001b[0;34m)\u001b[0m\u001b[0;34m\u001b[0m\u001b[0m\n\u001b[0m\u001b[1;32m   1387\u001b[0m             \u001b[0mres\u001b[0m \u001b[0;34m=\u001b[0m \u001b[0mself\u001b[0m\u001b[0;34m.\u001b[0m\u001b[0m_box_item_values\u001b[0m\u001b[0;34m(\u001b[0m\u001b[0mitem\u001b[0m\u001b[0;34m,\u001b[0m \u001b[0mvalues\u001b[0m\u001b[0;34m)\u001b[0m\u001b[0;34m\u001b[0m\u001b[0m\n\u001b[1;32m   1388\u001b[0m             \u001b[0mcache\u001b[0m\u001b[0;34m[\u001b[0m\u001b[0mitem\u001b[0m\u001b[0;34m]\u001b[0m \u001b[0;34m=\u001b[0m \u001b[0mres\u001b[0m\u001b[0;34m\u001b[0m\u001b[0m\n",
      "\u001b[0;32m/usr/local/lib/python3.4/dist-packages/pandas/core/internals.py\u001b[0m in \u001b[0;36mget\u001b[0;34m(self, item, fastpath)\u001b[0m\n\u001b[1;32m   3541\u001b[0m \u001b[0;34m\u001b[0m\u001b[0m\n\u001b[1;32m   3542\u001b[0m             \u001b[0;32mif\u001b[0m \u001b[0;32mnot\u001b[0m \u001b[0misnull\u001b[0m\u001b[0;34m(\u001b[0m\u001b[0mitem\u001b[0m\u001b[0;34m)\u001b[0m\u001b[0;34m:\u001b[0m\u001b[0;34m\u001b[0m\u001b[0m\n\u001b[0;32m-> 3543\u001b[0;31m                 \u001b[0mloc\u001b[0m \u001b[0;34m=\u001b[0m \u001b[0mself\u001b[0m\u001b[0;34m.\u001b[0m\u001b[0mitems\u001b[0m\u001b[0;34m.\u001b[0m\u001b[0mget_loc\u001b[0m\u001b[0;34m(\u001b[0m\u001b[0mitem\u001b[0m\u001b[0;34m)\u001b[0m\u001b[0;34m\u001b[0m\u001b[0m\n\u001b[0m\u001b[1;32m   3544\u001b[0m             \u001b[0;32melse\u001b[0m\u001b[0;34m:\u001b[0m\u001b[0;34m\u001b[0m\u001b[0m\n\u001b[1;32m   3545\u001b[0m                 \u001b[0mindexer\u001b[0m \u001b[0;34m=\u001b[0m \u001b[0mnp\u001b[0m\u001b[0;34m.\u001b[0m\u001b[0marange\u001b[0m\u001b[0;34m(\u001b[0m\u001b[0mlen\u001b[0m\u001b[0;34m(\u001b[0m\u001b[0mself\u001b[0m\u001b[0;34m.\u001b[0m\u001b[0mitems\u001b[0m\u001b[0;34m)\u001b[0m\u001b[0;34m)\u001b[0m\u001b[0;34m[\u001b[0m\u001b[0misnull\u001b[0m\u001b[0;34m(\u001b[0m\u001b[0mself\u001b[0m\u001b[0;34m.\u001b[0m\u001b[0mitems\u001b[0m\u001b[0;34m)\u001b[0m\u001b[0;34m]\u001b[0m\u001b[0;34m\u001b[0m\u001b[0m\n",
      "\u001b[0;32m/usr/local/lib/python3.4/dist-packages/pandas/indexes/base.py\u001b[0m in \u001b[0;36mget_loc\u001b[0;34m(self, key, method, tolerance)\u001b[0m\n\u001b[1;32m   2134\u001b[0m                 \u001b[0;32mreturn\u001b[0m \u001b[0mself\u001b[0m\u001b[0;34m.\u001b[0m\u001b[0m_engine\u001b[0m\u001b[0;34m.\u001b[0m\u001b[0mget_loc\u001b[0m\u001b[0;34m(\u001b[0m\u001b[0mkey\u001b[0m\u001b[0;34m)\u001b[0m\u001b[0;34m\u001b[0m\u001b[0m\n\u001b[1;32m   2135\u001b[0m             \u001b[0;32mexcept\u001b[0m \u001b[0mKeyError\u001b[0m\u001b[0;34m:\u001b[0m\u001b[0;34m\u001b[0m\u001b[0m\n\u001b[0;32m-> 2136\u001b[0;31m                 \u001b[0;32mreturn\u001b[0m \u001b[0mself\u001b[0m\u001b[0;34m.\u001b[0m\u001b[0m_engine\u001b[0m\u001b[0;34m.\u001b[0m\u001b[0mget_loc\u001b[0m\u001b[0;34m(\u001b[0m\u001b[0mself\u001b[0m\u001b[0;34m.\u001b[0m\u001b[0m_maybe_cast_indexer\u001b[0m\u001b[0;34m(\u001b[0m\u001b[0mkey\u001b[0m\u001b[0;34m)\u001b[0m\u001b[0;34m)\u001b[0m\u001b[0;34m\u001b[0m\u001b[0m\n\u001b[0m\u001b[1;32m   2137\u001b[0m \u001b[0;34m\u001b[0m\u001b[0m\n\u001b[1;32m   2138\u001b[0m         \u001b[0mindexer\u001b[0m \u001b[0;34m=\u001b[0m \u001b[0mself\u001b[0m\u001b[0;34m.\u001b[0m\u001b[0mget_indexer\u001b[0m\u001b[0;34m(\u001b[0m\u001b[0;34m[\u001b[0m\u001b[0mkey\u001b[0m\u001b[0;34m]\u001b[0m\u001b[0;34m,\u001b[0m \u001b[0mmethod\u001b[0m\u001b[0;34m=\u001b[0m\u001b[0mmethod\u001b[0m\u001b[0;34m,\u001b[0m \u001b[0mtolerance\u001b[0m\u001b[0;34m=\u001b[0m\u001b[0mtolerance\u001b[0m\u001b[0;34m)\u001b[0m\u001b[0;34m\u001b[0m\u001b[0m\n",
      "\u001b[0;32mpandas/index.pyx\u001b[0m in \u001b[0;36mpandas.index.IndexEngine.get_loc (pandas/index.c:4145)\u001b[0;34m()\u001b[0m\n",
      "\u001b[0;32mpandas/index.pyx\u001b[0m in \u001b[0;36mpandas.index.IndexEngine.get_loc (pandas/index.c:4009)\u001b[0;34m()\u001b[0m\n",
      "\u001b[0;32mpandas/src/hashtable_class_helper.pxi\u001b[0m in \u001b[0;36mpandas.hashtable.PyObjectHashTable.get_item (pandas/hashtable.c:13166)\u001b[0;34m()\u001b[0m\n",
      "\u001b[0;32mpandas/src/hashtable_class_helper.pxi\u001b[0m in \u001b[0;36mpandas.hashtable.PyObjectHashTable.get_item (pandas/hashtable.c:13120)\u001b[0;34m()\u001b[0m\n",
      "\u001b[0;31mKeyError\u001b[0m: 'p_off (mbar)'"
     ]
    }
   ],
   "source": [
    "# plotting data\n",
    "plt.subplot(221)\n",
    "plt.title('p = {:.2e} mbar'.format(df_langmuir['p_off (mbar)'][0]), fontsize=20)\n",
    "plt.errorbar(df['w (%)'][:3], df['n_e'][:3], yerr=df['err_n_e'][:3], fmt='o', label='Langmuir')\n",
    "plt.errorbar(df_spectr['w (%)'][:3], df_spectr['n ($cm^{-3}$)'][:3], yerr=(df_spectr['n_max ($cm^{-3}$)'] - df_spectr['n_min ($cm^{-3}$)'])[:3], \n",
    "             fmt='o', label='OES')\n",
    "plt.grid()\n",
    "plt.xlabel('W (%)', fontsize=18)\n",
    "plt.ylabel('$n_e$ $cm^{-3}$', fontsize=18)\n",
    "plt.legend()\n",
    "'''\n",
    "plt.subplot(223)\n",
    "plt.errorbar(df['w (%)'][:3], df['T_e'][:3], yerr=df['err_T_e'][:3], fmt='o', label='Langmuir')\n",
    "plt.plot(df_spectr['w (%)'][:3], df_spectr['T'][:3], 'o', label='OES')\n",
    "plt.grid()\n",
    "plt.xlabel('W (%)', fontsize=18)\n",
    "plt.ylabel('$T_e$ (eV)', fontsize=18)\n",
    "plt.legend()\n",
    "plt.tight_layout()\n",
    "\n",
    "plt.subplot(222)\n",
    "plt.title('p = {:.2e} mbar'.format(df['p_off (mbar)'][4]), fontsize=20)\n",
    "plt.errorbar(df['w (%)'][3:], df['n_e'][3:], yerr=df['err_n_e'][3:], fmt='o', label='Langmuir')\n",
    "plt.errorbar(df_spectr['w (%)'][3:], df_spectr['n ($cm^{-3}$)'][3:], yerr=(df_spectr['n_max ($cm^{-3}$)'] - df_spectr['n_min ($cm^{-3}$)'])[3:], \n",
    "             fmt='o', label='OES')\n",
    "plt.grid()\n",
    "plt.xlabel('W (%)', fontsize=18)\n",
    "plt.ylabel('$n_e$ $cm^{-3}$', fontsize=18)\n",
    "plt.legend()\n",
    "\n",
    "plt.subplot(224)\n",
    "plt.errorbar(df['w (%)'][:3], df['T_e'][3:], yerr=df['err_T_e'][3:], fmt='o', label='Langmuir')\n",
    "plt.plot(df_spectr['w (%)'][3:], df_spectr['T'][3:], 'o', label='OES')\n",
    "plt.grid()\n",
    "plt.xlabel('W (%)', fontsize=18)\n",
    "plt.ylabel('$T_e$ (eV)', fontsize=18)\n",
    "plt.legend()\n",
    "plt.tight_layout()\n",
    "'''"
   ]
  },
  {
   "cell_type": "code",
   "execution_count": 92,
   "metadata": {
    "collapsed": false
   },
   "outputs": [
    {
     "name": "stdout",
     "output_type": "stream",
     "text": [
      "Reading dataset:['2702lang16', '2702lang14', '2702lang19', '2702lang02', '2702lang17', '2702lang04', '2702lang08', '2702lang15', '2702lang03', '2702lang09', '2702lang07', '2702lang12', '2702lang06', '2702lang01', '2702lang13', '2702lang18', '2702lang10', '2702lang11', '2702lang05']\n"
     ]
    }
   ],
   "source": [
    "# langmuir density and profile temperature\n",
    "#                        path to results data\n",
    "df_lang = agg.aggregate_data('../langmuir/data/data-2702')\n",
    "# the grouped by columns will become indexes\n",
    "a = df_lang.groupby(['P_off', 'W_em'])['n_e', 'err_n_e', 'T_e', 'err_T_e'].mean()\n",
    "# set plot stles, titles and figures. Need to add the labels though\n",
    "pressures = a.index.get_level_values(0).unique()\n",
    "i = 0\n",
    "j = 2\n",
    "for pressure in pressures:\n",
    "    plt.subplot(221 + i)\n",
    "    plt.grid()\n",
    "    plt.title('Pressure: {:.2e} mbar'.format(pressure))\n",
    "    w = a.xs(pressure).index.values\n",
    "    try:\n",
    "        T_e_spectr = df_merged_hahd.xs(round(pressure, 6))['T']\n",
    "        plt.plot(w, T_e_spectr, '-o', label='OES $H_{\\\\alpha}/H_{\\\\delta}$')\n",
    "    except: \n",
    "        pass\n",
    "    T_e_lang = a.xs(pressure)['T_e']\n",
    "    err_T_e_lang = a.xs(pressure)['err_T_e']\n",
    "    plt.errorbar(w, T_e_lang, yerr=err_T_e_lang, label='Langmuir', fmt='-o')\n",
    "    plt.xlabel('W (%)')\n",
    "    plt.ylabel('$T_e$ (eV)')  \n",
    "    plt.legend()\n",
    "    \n",
    "    plt.subplot(221 + j)\n",
    "    n_e = a.xs(pressure)['n_e'] / 1e6\n",
    "    err_n_e = a.xs(pressure)['err_n_e'] / 1e6\n",
    "    plt.errorbar(w, n_e, yerr=err_n_e, label='Langmuir', fmt='-o')\n",
    "    plt.xlabel('W (%)', fontsize=13)\n",
    "    plt.ylabel('$n_e (cm^{-3})$', fontsize=13)\n",
    "    plt.grid()\n",
    "    plt.legend()\n",
    "    plt.tight_layout()\n",
    "    i = i + 1\n",
    "    j = j + 1 "
   ]
  },
  {
   "cell_type": "code",
   "execution_count": 84,
   "metadata": {
    "collapsed": false
   },
   "outputs": [
    {
     "data": {
      "text/plain": [
       "\n",
       "w\n",
       "20    8.345771\n",
       "30    4.171503\n",
       "40    3.221569\n",
       "50    5.000909\n",
       "60    5.865339\n",
       "Name: T, dtype: float64"
      ]
     },
     "metadata": {},
     "output_type": "display_data"
    }
   ],
   "source": [
    "df_merged_hahd.xs(round(pressures[1],6))['T']"
   ]
  },
  {
   "cell_type": "code",
   "execution_count": null,
   "metadata": {
    "collapsed": true
   },
   "outputs": [],
   "source": []
  }
 ],
 "metadata": {
  "kernelspec": {
   "display_name": "Python 3",
   "language": "python",
   "name": "python3"
  },
  "language_info": {
   "codemirror_mode": {
    "name": "ipython",
    "version": 3
   },
   "file_extension": ".py",
   "mimetype": "text/x-python",
   "name": "python",
   "nbconvert_exporter": "python",
   "pygments_lexer": "ipython3",
   "version": "3.4.2"
  }
 },
 "nbformat": 4,
 "nbformat_minor": 2
}
