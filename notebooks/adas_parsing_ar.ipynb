{
 "cells": [
  {
   "cell_type": "markdown",
   "metadata": {},
   "source": [
    "# Parsing ADAS data with pandas for Argon with $\\lambda = 750 nm$\n",
    "\n",
    "Link to the original notebook:\n",
    "https://nbviewer.jupyter.org/gist/anonymous/40a8f1b3b5e58a63e6c67e703f7c50c7"
   ]
  },
  {
   "cell_type": "code",
   "execution_count": 1,
   "metadata": {
    "collapsed": false
   },
   "outputs": [
    {
     "name": "stdout",
     "output_type": "stream",
     "text": [
      "Using matplotlib backend: Qt5Agg\n"
     ]
    }
   ],
   "source": [
    "import pandas as pd\n",
    "import numpy as np\n",
    "from scipy import interpolate\n",
    "import matplotlib.pyplot as plt\n",
    "from mpl_toolkits.mplot3d import Axes3D\n",
    "%matplotlib"
   ]
  },
  {
   "cell_type": "code",
   "execution_count": 7,
   "metadata": {
    "collapsed": false
   },
   "outputs": [],
   "source": [
    "file_path = '../data/adas/ar_750.dat'\n",
    "# open the file, read the number of lines and save\n",
    "# the line where densities are stored (line 2)\n",
    "with open(file_path) as file:\n",
    "    for line_number, line_text in enumerate(file):\n",
    "        if line_number == 1:\n",
    "            density_index = line_text\n",
    "num_lines = line_number + 1\n",
    "\n",
    "# read two dataframes as suggested on stackoverflow\n",
    "df2 = pd.read_csv(file_path, delim_whitespace=True,\n",
    "                  skiprows=filter(lambda x: x%2==0, range(3, num_lines)),\n",
    "                  header=3)\n",
    "df3 = pd.read_csv(file_path, delim_whitespace=True,\n",
    "                  skiprows=filter(lambda x: x%2==1, range(2, num_lines)),\n",
    "                  header=2)\n",
    "\n",
    "# concat the dataframes in order to have a single dataframe\n",
    "df = pd.concat([df2, df3], axis=1)\n",
    "# add the index values to the dataframes (i.e the densities)\n",
    "df.index = density_index.strip().split(' ')\n",
    "# add the densities as a column\n",
    "df['n_e'] = df.index.values\n",
    "# reorder the dataframe for data analysis: we want three columns,\n",
    "# n_e, T_e, X_e\n",
    "df_melt = pd.melt(df, id_vars='n_e', var_name='T_e', value_name='X_e')\n",
    "# convert all the values in the column to numbers instead of string\n",
    "df_melt = df_melt.apply(pd.to_numeric)"
   ]
  },
  {
   "cell_type": "code",
   "execution_count": 10,
   "metadata": {
    "collapsed": false
   },
   "outputs": [],
   "source": [
    "# interpolation:\n",
    "# first, we can see that both p.e.c and n_e have very\n",
    "# high ranges. So for a simpler interpolation we can\n",
    "# use their logarithms\n",
    "# log_n = np.log10(df_melt.n_e)\n",
    "# log_pec = np.log10(df_melt.n_e)\n",
    "df_melt[['n_e', 'X_e']] = df_melt[['n_e', 'X_e']].apply(np.log10)\n",
    "\n",
    "# we want the following relation:\n",
    "# T = T(n, pec)\n",
    "# let's see if scipy.interpolate.griddata can do the work\n",
    "known_points = df_melt[['n_e', 'X_e']]\n",
    "#random_points = np.array([np.linspace(9.9, 16, 1000), np.linspace(-10, -74, 1000)]).T\n",
    "random_points_x, random_points_y = np.mgrid[10:16:200j, -10:-74:200j]\n",
    "grid = interpolate.griddata(known_points, df_melt.T_e, (random_points_x, random_points_y), method='linear')"
   ]
  },
  {
   "cell_type": "code",
   "execution_count": 11,
   "metadata": {
    "collapsed": false
   },
   "outputs": [
    {
     "data": {
      "text/plain": [
       "array([[         nan,          nan,  33.52238315, ...,   0.07458198,\n",
       "          0.07174099,   0.0689    ],\n",
       "       [         nan,          nan,  33.51510606, ...,   0.07561012,\n",
       "          0.07276913,   0.06992814],\n",
       "       [         nan,          nan,  33.50811297, ...,   0.07663827,\n",
       "          0.07379727,   0.07095628],\n",
       "       ..., \n",
       "       [         nan,          nan,          nan, ...,   0.07459236,\n",
       "          0.07174742,   0.0689    ],\n",
       "       [         nan,          nan,          nan, ...,   0.07455228,\n",
       "          0.07174618,   0.0689    ],\n",
       "       [         nan,          nan,          nan, ...,   0.07452524,\n",
       "          0.07171262,   0.0689    ]])"
      ]
     },
     "execution_count": 11,
     "metadata": {},
     "output_type": "execute_result"
    }
   ],
   "source": [
    "grid"
   ]
  },
  {
   "cell_type": "code",
   "execution_count": 8,
   "metadata": {
    "collapsed": false
   },
   "outputs": [
    {
     "data": {
      "text/plain": [
       "<matplotlib.text.Text at 0x7f7c54020d30>"
      ]
     },
     "execution_count": 8,
     "metadata": {},
     "output_type": "execute_result"
    }
   ],
   "source": [
    "# plot interpolation data\n",
    "fig = plt.figure()\n",
    "ax = fig.gca(projection='3d')\n",
    "#n_e, pec = np.meshgrid(random_points_x, random_points_y)\n",
    "ax.plot_surface(random_points_x, random_points_y, grid, alpha=0.2)\n",
    "ax.scatter(df_melt.n_e, df_melt.X_e, df_melt.T_e, 'b')\n",
    "ax.set_zlabel('T (eV)')\n",
    "ax.set_xlabel('Log n ($m^{-3}$)')\n",
    "ax.set_ylabel('Log X')"
   ]
  },
  {
   "cell_type": "code",
   "execution_count": null,
   "metadata": {
    "collapsed": true
   },
   "outputs": [],
   "source": [
    "# define the functions for functions.py\n",
    "def read_adas_file(file_path, element='ar'):\n",
    "    '''\n",
    "    This function reads the adas .dat file and \n",
    "    returns a pandas dataframe with three cols:\n",
    "    n_e, T_e, X\n",
    "    '''\n",
    "    # open the file, read the number of lines and save\n",
    "    # the line where densities are stored (line 2)\n",
    "    with open(file_path) as file:\n",
    "        for line_number, line_text in enumerate(file):\n",
    "            if line_number == 1:\n",
    "                density_index = line_text\n",
    "    num_lines = line_number + 1\n",
    "\n",
    "    if (element == 'ar'):\n",
    "        # read two dataframes as suggested on stackoverflow\n",
    "        df2 = pd.read_csv(file_path, delim_whitespace=True,\n",
    "                          skiprows=filter(lambda x: x%2==0, range(3, num_lines)),\n",
    "                          header=3)\n",
    "        df3 = pd.read_csv(file_path, delim_whitespace=True,\n",
    "                          skiprows=filter(lambda x: x%2==1, range(2, num_lines)),\n",
    "                          header=2)\n",
    "\n",
    "    # concat the dataframes in order to have a single dataframe\n",
    "    df = pd.concat([df2, df3], axis=1)\n",
    "    # add the index values to the dataframes (i.e the densities)\n",
    "    df.index = density_index.strip().split(' ')\n",
    "    # add the densities as a column\n",
    "    df['n_e'] = df.index.values\n",
    "    # reorder the dataframe for data analysis: we want three columns,\n",
    "    # n_e, T_e, X_e\n",
    "    df_melt = pd.melt(df, id_vars='n_e', var_name='T_e', value_name='X_e')\n",
    "    # convert all the values in the column to numbers instead of string\n",
    "    df_melt = df_melt.apply(pd.to_numeric)\n",
    "    \n",
    "    return df_melt\n",
    "\n",
    "def interpolate_dataframe(df, points):\n",
    "    '''\n",
    "    This function takes a pandas dataframe with three cols:\n",
    "    n_e, T_e, X and a points array with shape (n, 2).\n",
    "    It returns an array with dimension (n,) with the \n",
    "    interpolated temperature values. For faster and\n",
    "    simpler interpolation it converts both the n_e and T_e\n",
    "    into log10 arrays.\n",
    "    '''\n",
    "    # interpolation:\n",
    "    # first, we can see that both p.e.c and n_e have very\n",
    "    # high range. So for a simpler interpolation we can\n",
    "    # use their logarithms\n",
    "    # log_n = np.log10(df_melt.n_e)\n",
    "    # log_pec = np.log10(df_melt.n_e)\n",
    "    df_melt[['n_e', 'X_e']] = df_melt[['n_e', 'X_e']].apply(np.log10)\n",
    "\n",
    "    # we want the following relation:\n",
    "    # T = T(n, pec)\n",
    "    # let's see if scipy.interpolate.griddata can do the work\n",
    "    known_points = df_melt[['n_e', 'X_e']]\n",
    "    # random_points = np.array([np.linspace(10, 16, 1000), np.linspace(-12, -74, 1000)]).T\n",
    "    grid = interpolate.griddata(known_points, df_melt.T_e, points, method='cubic')\n",
    "    \n",
    "    return grid"
   ]
  }
 ],
 "metadata": {
  "kernelspec": {
   "display_name": "Python 3",
   "language": "python",
   "name": "python3"
  },
  "language_info": {
   "codemirror_mode": {
    "name": "ipython",
    "version": 3
   },
   "file_extension": ".py",
   "mimetype": "text/x-python",
   "name": "python",
   "nbconvert_exporter": "python",
   "pygments_lexer": "ipython3",
   "version": "3.6.0"
  }
 },
 "nbformat": 4,
 "nbformat_minor": 2
}
