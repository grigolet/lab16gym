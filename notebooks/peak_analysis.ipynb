{
 "cells": [
  {
   "cell_type": "code",
   "execution_count": 26,
   "metadata": {
    "collapsed": false
   },
   "outputs": [
    {
     "name": "stdout",
     "output_type": "stream",
     "text": [
      "Using matplotlib backend: GTK3Agg\n"
     ]
    }
   ],
   "source": [
    "import numpy as np\n",
    "import matplotlib.pyplot as plt\n",
    "import functions\n",
    "from pprint import pprint\n",
    "import json\n",
    "from scipy import interpolate\n",
    "import langmuir.gymness.aggregate as agg\n",
    "from decimal import Decimal\n",
    "%matplotlib"
   ]
  },
  {
   "cell_type": "code",
   "execution_count": 27,
   "metadata": {
    "collapsed": false
   },
   "outputs": [],
   "source": [
    "# definisco i file\n",
    "lamp_file = 'OES_Studenti_2017/Ilamp_acquisitiontime_3s.txt'\n",
    "rho_file = 'OES_Studenti_2017/riflettivitadiffusore.txt' \n",
    "argon_750_file = 'OES_Studenti_2017/Ar15022017_a8_acq_time_0.01s.txt' \n",
    "argon_480_file = 'OES_Studenti_2017/Ar15022017_a1_acq_time_0.5s.txt' \n",
    "\n",
    "acquisition_time = 0.01\n",
    "\n",
    "peak_ratio = functions.get_peak_ratio(argon_480_file)\n",
    "[I_abs_spectrum, n_0, I_abs_750, X_750] = functions.get_absolute_intensity(lamp_file, rho_file, argon_750_file, acquisition_time)\n",
    "n_e_mean, n_e_min, n_e_max = functions.get_density(peak_ratio)"
   ]
  },
  {
   "cell_type": "code",
   "execution_count": 30,
   "metadata": {
    "collapsed": false
   },
   "outputs": [
    {
     "name": "stdout",
     "output_type": "stream",
     "text": [
      "\n",
      "Peak ratio I480/I488 = 5.252E-01\n",
      "n0 = 1.204E+18 cm-3\n",
      "I absolute 750 = 1.986E-13 \n",
      "X 750 = 4.782E+16\n",
      "n_e_mean = 1.200E+11 cm-3\n",
      "( 1.072E+11 < n_e < 1.338E+11 ) cm-3\n"
     ]
    }
   ],
   "source": [
    "peak_ratio_approx = '%.3E' % Decimal(peak_ratio)\n",
    "n_0_approx = '%.3E' % Decimal(n_0)\n",
    "I_abs_750_approx = '%.3E' % Decimal(I_abs_750)\n",
    "X_750_approx = '%.3E' % Decimal(X_750)\n",
    "n_e_mean_approx = '%.3E' % Decimal(n_e_mean)\n",
    "n_e_min_approx = '%.3E' % Decimal(n_e_min)\n",
    "n_e_max_approx = '%.3E' % Decimal(n_e_max)\n",
    "print(\"\"\"\n",
    "Peak ratio I480/I488 = {}\n",
    "n0 = {} cm-3\n",
    "I absolute 750 = {} \n",
    "X 750 = {}\n",
    "n_e_mean = {} cm-3\n",
    "( {} < n_e < {} ) cm-3\"\"\". format(peak_ratio_approx, n_0_approx, I_abs_750_approx, X_750_approx, n_e_mean_approx, n_e_min_approx, n_e_max_approx))"
   ]
  },
  {
   "cell_type": "code",
   "execution_count": 29,
   "metadata": {
    "collapsed": false,
    "scrolled": true
   },
   "outputs": [
    {
     "ename": "OSError",
     "evalue": "data/2302/2302spectr/a21ad21.dat not found.",
     "output_type": "error",
     "traceback": [
      "\u001b[0;31m---------------------------------------------------------------------------\u001b[0m",
      "\u001b[0;31mOSError\u001b[0m                                   Traceback (most recent call last)",
      "\u001b[0;32m<ipython-input-29-acd18268045a>\u001b[0m in \u001b[0;36m<module>\u001b[0;34m()\u001b[0m\n\u001b[1;32m      1\u001b[0m \u001b[0;31m# density ratio pression spectra analysis\u001b[0m\u001b[0;34m\u001b[0m\u001b[0;34m\u001b[0m\u001b[0m\n\u001b[1;32m      2\u001b[0m \u001b[0;31m#                                                    name of config file    folder with data\u001b[0m\u001b[0;34m\u001b[0m\u001b[0;34m\u001b[0m\u001b[0m\n\u001b[0;32m----> 3\u001b[0;31m \u001b[0mratios_p1\u001b[0m\u001b[0;34m,\u001b[0m \u001b[0mw_em_p1\u001b[0m\u001b[0;34m,\u001b[0m \u001b[0mresults_p1\u001b[0m \u001b[0;34m=\u001b[0m \u001b[0mfunctions\u001b[0m\u001b[0;34m.\u001b[0m\u001b[0mget_profile_ratio\u001b[0m\u001b[0;34m(\u001b[0m\u001b[0;34m'config_p1_2302.json'\u001b[0m\u001b[0;34m,\u001b[0m \u001b[0;34m'data/2302/2302spectr/'\u001b[0m\u001b[0;34m)\u001b[0m\u001b[0;34m\u001b[0m\u001b[0m\n\u001b[0m\u001b[1;32m      4\u001b[0m \u001b[0mratios_p2\u001b[0m\u001b[0;34m,\u001b[0m \u001b[0mw_em_p2\u001b[0m\u001b[0;34m,\u001b[0m \u001b[0mresults_p2\u001b[0m \u001b[0;34m=\u001b[0m \u001b[0mfunctions\u001b[0m\u001b[0;34m.\u001b[0m\u001b[0mget_profile_ratio\u001b[0m\u001b[0;34m(\u001b[0m\u001b[0;34m'config_p2_2302.json'\u001b[0m\u001b[0;34m,\u001b[0m \u001b[0;34m'data/2302/2302spectr/'\u001b[0m\u001b[0;34m)\u001b[0m\u001b[0;34m\u001b[0m\u001b[0m\n\u001b[1;32m      5\u001b[0m \u001b[0mn_avg_p1\u001b[0m\u001b[0;34m,\u001b[0m \u001b[0mn_std_p1\u001b[0m  \u001b[0;34m=\u001b[0m \u001b[0mfunctions\u001b[0m\u001b[0;34m.\u001b[0m\u001b[0mget_density\u001b[0m\u001b[0;34m(\u001b[0m\u001b[0mratios_p1\u001b[0m\u001b[0;34m)\u001b[0m\u001b[0;34m\u001b[0m\u001b[0m\n",
      "\u001b[0;32m/home/paola/Documenti/Laboratorio Plasmi/lab16gym/functions.py\u001b[0m in \u001b[0;36mget_profile_ratio\u001b[0;34m(config_file, data_path)\u001b[0m\n\u001b[1;32m    107\u001b[0m     \u001b[0;31m# get the powers and file names\u001b[0m\u001b[0;34m\u001b[0m\u001b[0;34m\u001b[0m\u001b[0m\n\u001b[1;32m    108\u001b[0m     \u001b[0;32mfor\u001b[0m \u001b[0mkey\u001b[0m\u001b[0;34m,\u001b[0m \u001b[0mvalue\u001b[0m \u001b[0;32min\u001b[0m \u001b[0mconfig_file\u001b[0m\u001b[0;34m.\u001b[0m\u001b[0mitems\u001b[0m\u001b[0;34m(\u001b[0m\u001b[0;34m)\u001b[0m\u001b[0;34m:\u001b[0m\u001b[0;34m\u001b[0m\u001b[0m\n\u001b[0;32m--> 109\u001b[0;31m         \u001b[0mpeak_ratio\u001b[0m \u001b[0;34m=\u001b[0m \u001b[0mget_peak_ratio\u001b[0m\u001b[0;34m(\u001b[0m\u001b[0mdata_path\u001b[0m \u001b[0;34m+\u001b[0m \u001b[0mkey\u001b[0m \u001b[0;34m+\u001b[0m \u001b[0;34m'.dat'\u001b[0m\u001b[0;34m)\u001b[0m\u001b[0;34m\u001b[0m\u001b[0m\n\u001b[0m\u001b[1;32m    110\u001b[0m         \u001b[0;32mif\u001b[0m \u001b[0mvalue\u001b[0m\u001b[0;34m[\u001b[0m\u001b[0;34m'w'\u001b[0m\u001b[0;34m]\u001b[0m \u001b[0;32mnot\u001b[0m \u001b[0;32min\u001b[0m \u001b[0mresults\u001b[0m\u001b[0;34m.\u001b[0m\u001b[0mkeys\u001b[0m\u001b[0;34m(\u001b[0m\u001b[0;34m)\u001b[0m\u001b[0;34m:\u001b[0m\u001b[0;34m\u001b[0m\u001b[0m\n\u001b[1;32m    111\u001b[0m             \u001b[0mresults\u001b[0m\u001b[0;34m[\u001b[0m\u001b[0mvalue\u001b[0m\u001b[0;34m[\u001b[0m\u001b[0;34m'w'\u001b[0m\u001b[0;34m]\u001b[0m\u001b[0;34m]\u001b[0m \u001b[0;34m=\u001b[0m \u001b[0;34m[\u001b[0m\u001b[0;34m]\u001b[0m\u001b[0;34m\u001b[0m\u001b[0m\n",
      "\u001b[0;32m/home/paola/Documenti/Laboratorio Plasmi/lab16gym/functions.py\u001b[0m in \u001b[0;36mget_peak_ratio\u001b[0;34m(file_name)\u001b[0m\n\u001b[1;32m      5\u001b[0m \u001b[0;34m\u001b[0m\u001b[0m\n\u001b[1;32m      6\u001b[0m \u001b[0;32mdef\u001b[0m \u001b[0mget_peak_ratio\u001b[0m\u001b[0;34m(\u001b[0m\u001b[0mfile_name\u001b[0m\u001b[0;34m)\u001b[0m\u001b[0;34m:\u001b[0m\u001b[0;34m\u001b[0m\u001b[0m\n\u001b[0;32m----> 7\u001b[0;31m     \u001b[0mwavelenght\u001b[0m\u001b[0;34m,\u001b[0m \u001b[0mintensity\u001b[0m \u001b[0;34m=\u001b[0m \u001b[0mnp\u001b[0m\u001b[0;34m.\u001b[0m\u001b[0mgenfromtxt\u001b[0m\u001b[0;34m(\u001b[0m\u001b[0mfile_name\u001b[0m\u001b[0;34m,\u001b[0m \u001b[0munpack\u001b[0m\u001b[0;34m=\u001b[0m\u001b[0;32mTrue\u001b[0m\u001b[0;34m)\u001b[0m\u001b[0;34m\u001b[0m\u001b[0m\n\u001b[0m\u001b[1;32m      8\u001b[0m \u001b[0;34m\u001b[0m\u001b[0m\n\u001b[1;32m      9\u001b[0m     \u001b[0mpeakind\u001b[0m \u001b[0;34m=\u001b[0m \u001b[0mpeakutils\u001b[0m\u001b[0;34m.\u001b[0m\u001b[0mindexes\u001b[0m\u001b[0;34m(\u001b[0m\u001b[0mintensity\u001b[0m\u001b[0;34m,\u001b[0m \u001b[0mthres\u001b[0m\u001b[0;34m=\u001b[0m\u001b[0;36m0.1\u001b[0m\u001b[0;34m,\u001b[0m \u001b[0mmin_dist\u001b[0m\u001b[0;34m=\u001b[0m\u001b[0;36m0.5\u001b[0m\u001b[0;34m)\u001b[0m\u001b[0;34m\u001b[0m\u001b[0m\n",
      "\u001b[0;32m/usr/local/lib/python3.4/dist-packages/numpy/lib/npyio.py\u001b[0m in \u001b[0;36mgenfromtxt\u001b[0;34m(fname, dtype, comments, delimiter, skip_header, skip_footer, converters, missing_values, filling_values, usecols, names, excludelist, deletechars, replace_space, autostrip, case_sensitive, defaultfmt, unpack, usemask, loose, invalid_raise, max_rows)\u001b[0m\n\u001b[1;32m   1510\u001b[0m                 \u001b[0mfhd\u001b[0m \u001b[0;34m=\u001b[0m \u001b[0miter\u001b[0m\u001b[0;34m(\u001b[0m\u001b[0mnp\u001b[0m\u001b[0;34m.\u001b[0m\u001b[0mlib\u001b[0m\u001b[0;34m.\u001b[0m\u001b[0m_datasource\u001b[0m\u001b[0;34m.\u001b[0m\u001b[0mopen\u001b[0m\u001b[0;34m(\u001b[0m\u001b[0mfname\u001b[0m\u001b[0;34m,\u001b[0m \u001b[0;34m'rbU'\u001b[0m\u001b[0;34m)\u001b[0m\u001b[0;34m)\u001b[0m\u001b[0;34m\u001b[0m\u001b[0m\n\u001b[1;32m   1511\u001b[0m             \u001b[0;32melse\u001b[0m\u001b[0;34m:\u001b[0m\u001b[0;34m\u001b[0m\u001b[0m\n\u001b[0;32m-> 1512\u001b[0;31m                 \u001b[0mfhd\u001b[0m \u001b[0;34m=\u001b[0m \u001b[0miter\u001b[0m\u001b[0;34m(\u001b[0m\u001b[0mnp\u001b[0m\u001b[0;34m.\u001b[0m\u001b[0mlib\u001b[0m\u001b[0;34m.\u001b[0m\u001b[0m_datasource\u001b[0m\u001b[0;34m.\u001b[0m\u001b[0mopen\u001b[0m\u001b[0;34m(\u001b[0m\u001b[0mfname\u001b[0m\u001b[0;34m,\u001b[0m \u001b[0;34m'rb'\u001b[0m\u001b[0;34m)\u001b[0m\u001b[0;34m)\u001b[0m\u001b[0;34m\u001b[0m\u001b[0m\n\u001b[0m\u001b[1;32m   1513\u001b[0m             \u001b[0mown_fhd\u001b[0m \u001b[0;34m=\u001b[0m \u001b[0;32mTrue\u001b[0m\u001b[0;34m\u001b[0m\u001b[0m\n\u001b[1;32m   1514\u001b[0m         \u001b[0;32melse\u001b[0m\u001b[0;34m:\u001b[0m\u001b[0;34m\u001b[0m\u001b[0m\n",
      "\u001b[0;32m/usr/local/lib/python3.4/dist-packages/numpy/lib/_datasource.py\u001b[0m in \u001b[0;36mopen\u001b[0;34m(path, mode, destpath)\u001b[0m\n\u001b[1;32m    149\u001b[0m \u001b[0;34m\u001b[0m\u001b[0m\n\u001b[1;32m    150\u001b[0m     \u001b[0mds\u001b[0m \u001b[0;34m=\u001b[0m \u001b[0mDataSource\u001b[0m\u001b[0;34m(\u001b[0m\u001b[0mdestpath\u001b[0m\u001b[0;34m)\u001b[0m\u001b[0;34m\u001b[0m\u001b[0m\n\u001b[0;32m--> 151\u001b[0;31m     \u001b[0;32mreturn\u001b[0m \u001b[0mds\u001b[0m\u001b[0;34m.\u001b[0m\u001b[0mopen\u001b[0m\u001b[0;34m(\u001b[0m\u001b[0mpath\u001b[0m\u001b[0;34m,\u001b[0m \u001b[0mmode\u001b[0m\u001b[0;34m)\u001b[0m\u001b[0;34m\u001b[0m\u001b[0m\n\u001b[0m\u001b[1;32m    152\u001b[0m \u001b[0;34m\u001b[0m\u001b[0m\n\u001b[1;32m    153\u001b[0m \u001b[0;34m\u001b[0m\u001b[0m\n",
      "\u001b[0;32m/usr/local/lib/python3.4/dist-packages/numpy/lib/_datasource.py\u001b[0m in \u001b[0;36mopen\u001b[0;34m(self, path, mode)\u001b[0m\n\u001b[1;32m    499\u001b[0m             \u001b[0;32mreturn\u001b[0m \u001b[0m_file_openers\u001b[0m\u001b[0;34m[\u001b[0m\u001b[0mext\u001b[0m\u001b[0;34m]\u001b[0m\u001b[0;34m(\u001b[0m\u001b[0mfound\u001b[0m\u001b[0;34m,\u001b[0m \u001b[0mmode\u001b[0m\u001b[0;34m=\u001b[0m\u001b[0mmode\u001b[0m\u001b[0;34m)\u001b[0m\u001b[0;34m\u001b[0m\u001b[0m\n\u001b[1;32m    500\u001b[0m         \u001b[0;32melse\u001b[0m\u001b[0;34m:\u001b[0m\u001b[0;34m\u001b[0m\u001b[0m\n\u001b[0;32m--> 501\u001b[0;31m             \u001b[0;32mraise\u001b[0m \u001b[0mIOError\u001b[0m\u001b[0;34m(\u001b[0m\u001b[0;34m\"%s not found.\"\u001b[0m \u001b[0;34m%\u001b[0m \u001b[0mpath\u001b[0m\u001b[0;34m)\u001b[0m\u001b[0;34m\u001b[0m\u001b[0m\n\u001b[0m\u001b[1;32m    502\u001b[0m \u001b[0;34m\u001b[0m\u001b[0m\n\u001b[1;32m    503\u001b[0m \u001b[0;34m\u001b[0m\u001b[0m\n",
      "\u001b[0;31mOSError\u001b[0m: data/2302/2302spectr/a21ad21.dat not found."
     ]
    }
   ],
   "source": [
    "# density ratio pression spectra analysis\n",
    "#                                                    name of config file    folder with data\n",
    "ratios_p1, w_em_p1, results_p1 = functions.get_profile_ratio('config_p1_2302.json', 'data/2302/2302spectr/')\n",
    "ratios_p2, w_em_p2, results_p2 = functions.get_profile_ratio('config_p2_2302.json', 'data/2302/2302spectr/')\n",
    "n_avg_p1, n_std_p1  = functions.get_density(ratios_p1)\n",
    "n_avg_p2, n_std_p2  = functions.get_density(ratios_p2)\n",
    "p1_off = 3.1e-5\n",
    "p2_off = 1.74e-4\n",
    "\n",
    "# plotting data\n",
    "fig_spectr, ax_spectr = plt.subplots(1,1)\n",
    "ax_spectr.errorbar(w_em_p1, n_avg_p1, yerr=n_std_p1, fmt='o', label='p = {} mbar'.format(p1_off))\n",
    "ax_spectr.errorbar(w_em_p2, n_avg_p2, yerr=n_std_p2, fmt='o', label='p = {} mbar'.format(p2_off))\n",
    "ax_spectr.legend()\n",
    "ax_spectr.grid()\n",
    "# second pression spectra analysis"
   ]
  },
  {
   "cell_type": "code",
   "execution_count": null,
   "metadata": {
    "collapsed": false
   },
   "outputs": [],
   "source": [
    "# langmuir density and profile temperature\n",
    "#                        path to results data\n",
    "df = agg.aggregate_data('langmuir/data/data-2302')\n",
    "# the grouped by columns will become indexes\n",
    "a = df.groupby(['P_off', 'W_em'])['n_e', 'err_n_e', 'T_e', 'err_T_e'].mean()\n",
    "# set plot stles, titles and figures. Need to add the labels though\n",
    "fig = plt.figure()\n",
    "ax_ne = fig.add_subplot(211)\n",
    "ax_ne.set_title('$n_e$ $cm^{-3}$')\n",
    "ax_ne.grid()\n",
    "ax_te = fig.add_subplot(212)\n",
    "ax_te.set_title('$T_e$ (eV)')\n",
    "ax_te.grid()\n",
    "plt.tight_layout()  # this is useful for overlapping figures\n",
    "\n",
    "# difficult code: iterate over the values of the pressure\n",
    "# indexes (there are just two values in this case) and\n",
    "# take the values of the w, n, and T for each p.\n",
    "# Then plot all the data with their labels\n",
    "for p in a.index.get_level_values(0).unique():\n",
    "    w = a.index.get_level_values(1).unique()\n",
    "    n_e = a.loc[p,:]['n_e']\n",
    "    err_n_e = a.loc[p,:]['err_n_e']\n",
    "    T_e = a.loc[p,:]['T_e']\n",
    "    err_T_e = a.loc[p,:]['err_T_e']\n",
    "    ax_ne.errorbar(w, n_e, yerr=err_n_e, fmt='o', label=\"p: {} mbar\".format(p))\n",
    "    ax_te.errorbar(w, T_e, yerr=err_T_e, fmt='o', label=\"p: {} mbar\".format(p))\n",
    "    \n",
    "# set legend for the plots\n",
    "ax_ne.legend()\n",
    "ax_te.legend()"
   ]
  },
  {
   "cell_type": "code",
   "execution_count": null,
   "metadata": {
    "collapsed": false
   },
   "outputs": [],
   "source": []
  },
  {
   "cell_type": "code",
   "execution_count": null,
   "metadata": {
    "collapsed": true
   },
   "outputs": [],
   "source": []
  }
 ],
 "metadata": {
  "kernelspec": {
   "display_name": "Python 3",
   "language": "python",
   "name": "python3"
  },
  "language_info": {
   "codemirror_mode": {
    "name": "ipython",
    "version": 3
   },
   "file_extension": ".py",
   "mimetype": "text/x-python",
   "name": "python",
   "nbconvert_exporter": "python",
   "pygments_lexer": "ipython3",
   "version": "3.5.2"
  }
 },
 "nbformat": 4,
 "nbformat_minor": 2
}
